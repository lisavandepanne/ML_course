{
 "cells": [
  {
   "cell_type": "markdown",
   "metadata": {},
   "source": [
    "#### Import python files from another directory\n",
    "In order to reuse code written in .py files you need to import them.\n",
    "If they are from a distant folder, rather than copy-paste it into the current folder, you can write:"
   ]
  },
  {
   "cell_type": "code",
   "execution_count": 6,
   "metadata": {},
   "outputs": [],
   "source": [
    "import sys\n",
    "\n",
    "sys.path.append(\n",
    "    \"../../ex02/template\"\n",
    ")  # This goes up twice in the directories tree (hence in labs)\n",
    "# then goes down to ex02/template where your files from lab 2 are.\n"
   ]
  },
  {
   "cell_type": "markdown",
   "metadata": {},
   "source": [
    "you can now import your desired files, for example, we can import grid_search.py with:"
   ]
  },
  {
   "cell_type": "code",
   "execution_count": 8,
   "metadata": {},
   "outputs": [
    {
     "name": "stdout",
     "output_type": "stream",
     "text": [
      "[-100.  -25.   50.  125.  200.] [-150.  -75.    0.   75.  150.]\n"
     ]
    }
   ],
   "source": [
    "import grid_search  # You then need to call your functions using grid_search.function_name()\n",
    "import grid_search as gs  # You then need to call your functions using gs.function_name()\n",
    "  # You can call any functions of the file with function_name()\n",
    "from grid_search import *\n",
    "\n",
    "# Let's try to call generate_w from grid_search.py:\n",
    "w0, w1 = generate_w(5)\n",
    "print(w0, w1)"
   ]
  },
  {
   "cell_type": "markdown",
   "metadata": {},
   "source": [
    "As you can see we are now able to call functions from the grid_search.py file."
   ]
  },
  {
   "cell_type": "code",
   "execution_count": 9,
   "metadata": {},
   "outputs": [],
   "source": [
    "# Useful starting lines\n",
    "%matplotlib inline\n",
    "import numpy as np\n",
    "import matplotlib.pyplot as plt\n",
    "from helpers import *\n",
    "\n",
    "from test_utils import test\n",
    "\n",
    "%load_ext autoreload\n",
    "%autoreload 2"
   ]
  },
  {
   "cell_type": "markdown",
   "metadata": {},
   "source": [
    "# 1 Least squares and linear basis functions models\n",
    "## 1.1 Least squares"
   ]
  },
  {
   "cell_type": "code",
   "execution_count": 35,
   "metadata": {},
   "outputs": [],
   "source": [
    "def least_squares(y, tx):\n",
    "    \"\"\"Calculate the least squares solution.\n",
    "       returns mse, and optimal weights.\n",
    "\n",
    "    Args:\n",
    "        y: numpy array of shape (N,), N is the number of samples.\n",
    "        tx: numpy array of shape (N,D), D is the number of features.\n",
    "\n",
    "    Returns:\n",
    "        w: optimal weights, numpy array of shape(D,), D is the number of features.\n",
    "        mse: scalar.\n",
    "\n",
    "    >>> least_squares(np.array([0.1,0.2]), np.array([[2.3, 3.2], [1., 0.1]]))\n",
    "    (array([ 0.21212121, -0.12121212]), 8.666684749742561e-33)\n",
    "    \"\"\"\n",
    "    # ***************************************************\n",
    "    # INSERT YOUR CODE HERE\n",
    "    # least squares: TODO\n",
    "    # returns mse, and optimal weights\n",
    "\n",
    "    N = y.shape[0]\n",
    "    \n",
    "    # Compute optimal weights using least squares formula\n",
    "    XTX = np.dot(tx.T, tx)  # Compute X^T * X\n",
    "    XTy = np.dot(tx.T, y)   # Compute X^T * y\n",
    "    w = np.linalg.solve(XTX, XTy)  # Solve for optimal weights\n",
    "\n",
    "    # Compute predictions based on optimal weights\n",
    "    y_pred = np.dot(tx, w)  # X * w\n",
    "    \n",
    "    # Compute mean squared error (MSE)\n",
    "    mse = (1 / N) * np.sum((y - y_pred) ** 2)  # Mean squared error\n",
    "    \n",
    "    return w, mse\n",
    "    # ***************************************************\n",
    "    raise NotImplementedError"
   ]
  },
  {
   "cell_type": "markdown",
   "metadata": {},
   "source": [
    "### You can test your implementation here"
   ]
  },
  {
   "cell_type": "code",
   "execution_count": 11,
   "metadata": {},
   "outputs": [
    {
     "name": "stdout",
     "output_type": "stream",
     "text": [
      "expected (array([ 0.21212121, -0.12121212]), 8.666684749742561e-33)\n",
      "real: [ 0.21212121 -0.12121212] 2.3496345321524277e-32\n"
     ]
    }
   ],
   "source": [
    "#test(least_squares)\n",
    "# NB:\n",
    "#\n",
    "# Due to precision issues,\n",
    "# the output might not be exactly the same\n",
    "# even if you have implemented the right code.\n",
    "#\n",
    "# For example, the mse output expected to be\n",
    "# 8.666684749742561e-33,\n",
    "# but you might get some other small number\n",
    "# close to zero.\n",
    "#\n",
    "# In this case,\n",
    "# Failing the test doesn't necessarily mean\n",
    "# your implementation is wrong.:)\n",
    "\n",
    "w_ls, mse_ls = least_squares(np.array([0.1,0.2]), np.array([[2.3, 3.2], [1., 0.1]]))\n",
    "print(\"expected (array([ 0.21212121, -0.12121212]), 8.666684749742561e-33)\")\n",
    "print(\"real:\",w_ls, mse_ls)"
   ]
  },
  {
   "cell_type": "markdown",
   "metadata": {},
   "source": [
    "### Load the data\n",
    "Here we will reuse the dataset `height_weight_genders.csv` from previous exercise section to check the correctness of your implementation. Please compare it with your previous result."
   ]
  },
  {
   "cell_type": "code",
   "execution_count": 39,
   "metadata": {},
   "outputs": [],
   "source": [
    "from helpers import *\n",
    "from grid_search import *\n",
    "from stochastic_gradient_descent import *\n",
    "\n",
    "def test_your_least_squares():\n",
    "    \"\"\"\n",
    "    # this code should compare the optimal weights obtained\n",
    "    # by least squares vs. grid search\n",
    "    \"\"\"\n",
    "    height, weight, gender = load_data_from_ex02(sub_sample=False, add_outlier=False)\n",
    "    x, mean_x, std_x = standardize(height)\n",
    "    y, tx = build_model_data(x, weight)\n",
    "    # ***************************************************\n",
    "    # INSERT YOUR CODE HERE\n",
    "    # least square or grid search: TODO\n",
    "    # this code should compare the optimal weights obtained\n",
    "    # by least squares vs. grid search\n",
    "\n",
    "    #Test grid search\n",
    "    grid_w0, grid_w1 = generate_w(num_intervals=30)\n",
    "    grid_losses = grid_search(y, tx, grid_w0, grid_w1)\n",
    "    loss_star, w0_star, w1_star = get_best_parameters(grid_w0, grid_w1, grid_losses)\n",
    "\n",
    "    print(\"GRID SEARCH TEST:\")\n",
    "    print(\"grid search w0=\",w0_star)\n",
    "    print(\"grid search w1=\",w1_star)\n",
    "\n",
    "    #Test SGD\n",
    "    # Define the parameters of the algorithm.\n",
    "    max_iters = 50\n",
    "    gamma = 0.1\n",
    "    batch_size = 1\n",
    "\n",
    "    # Initialization\n",
    "    w_initial = np.array([0, 0])\n",
    "\n",
    "    # Start SGD.\n",
    "    sgd_losses, sgd_ws = stochastic_gradient_descent(\n",
    "        y, tx, w_initial, batch_size, max_iters, gamma\n",
    "    )\n",
    "\n",
    "    print(\"SGD TEST:\")\n",
    "    print(\"SGD w=\",sgd_ws[49])\n",
    "\n",
    "    #Test least squares\n",
    "    w_ls, mse_ls = least_squares(y,tx)\n",
    "    print(\"LEAST SQUARE ERROR TEST:\")\n",
    "    print(\"LSE w=\",w_ls)\n",
    "\n",
    "    # ***************************************************\n",
    "    #raise NotImplementedError"
   ]
  },
  {
   "cell_type": "markdown",
   "metadata": {},
   "source": [
    "Test it here"
   ]
  },
  {
   "cell_type": "code",
   "execution_count": 40,
   "metadata": {},
   "outputs": [
    {
     "name": "stdout",
     "output_type": "stream",
     "text": [
      "GRID SEARCH TEST:\n",
      "grid search w0= 65.51724137931035\n",
      "grid search w1= 25.86206896551724\n",
      "SGD iter. 0/49: loss=2504.104462529586, w0=7.076870017924006, w1=-3.0603690703235173\n",
      "SGD iter. 1/49: loss=724.9551922891605, w0=10.884638898224281, w1=-7.728587934532275\n",
      "SGD iter. 2/49: loss=2754.3970641829064, w0=18.30676401732987, w1=-4.546012416968285\n",
      "SGD iter. 3/49: loss=2214.7444846609233, w0=24.962204625825933, w1=3.673574677883881\n",
      "SGD iter. 4/49: loss=1631.3720476275469, w0=30.6742481264088, w1=10.922614080986078\n",
      "SGD iter. 5/49: loss=1065.2108419887206, w0=35.28989725083046, w1=14.840357094525327\n",
      "SGD iter. 6/49: loss=944.7821201978376, w0=39.636809074637874, w1=8.308567257222986\n",
      "SGD iter. 7/49: loss=588.270718547829, w0=43.066884055007336, w1=5.110363310298961\n",
      "SGD iter. 8/49: loss=241.7354822829361, w0=45.265681373010686, w1=3.8814599914773007\n",
      "SGD iter. 9/49: loss=603.4530912111378, w0=48.739736902823466, w1=5.790180713654964\n",
      "SGD iter. 10/49: loss=587.2790997598236, w0=52.1669197102028, w1=11.204491361194908\n",
      "SGD iter. 11/49: loss=401.1399667367276, w0=54.99937435851309, w1=14.007055153216605\n",
      "SGD iter. 12/49: loss=4.058591935514235, w0=55.28428107782712, w1=13.936495218985252\n",
      "SGD iter. 13/49: loss=69.59219564442888, w0=56.464045424164375, w1=14.056549848391093\n",
      "SGD iter. 14/49: loss=240.59831036663095, w0=58.65766485499841, w1=13.438023054599775\n",
      "SGD iter. 15/49: loss=73.28546597809077, w0=59.86832968044012, w1=13.797622933952011\n",
      "SGD iter. 16/49: loss=77.90443368045538, w0=61.11656390269535, w1=13.057382009506473\n",
      "SGD iter. 17/49: loss=8.09640000466365, w0=61.51896668610181, w1=13.430873286480736\n",
      "SGD iter. 18/49: loss=15.387824520269657, w0=62.07372473282614, w1=14.198456049782942\n",
      "SGD iter. 19/49: loss=204.45537872554831, w0=64.09587892440278, w1=10.93664879882309\n",
      "SGD iter. 20/49: loss=102.71739392461616, w0=65.52917857154301, w1=13.195946351705029\n",
      "SGD iter. 21/49: loss=33.4410686777648, w0=66.34699357113357, w1=13.268457131874035\n",
      "SGD iter. 22/49: loss=148.87412211889395, w0=68.07253187623661, w1=13.197619596946007\n",
      "SGD iter. 23/49: loss=75.75107307216538, w0=69.30339395683025, w1=14.420908709082997\n",
      "SGD iter. 24/49: loss=22.370487859108888, w0=69.97228091079346, w1=13.654142692361257\n",
      "SGD iter. 25/49: loss=15.567734596197543, w0=70.53027257016119, w1=13.822151109962999\n",
      "SGD iter. 26/49: loss=1.7951797234593259, w0=70.71975500858012, w1=14.008752615102466\n",
      "SGD iter. 27/49: loss=1.7541410181701111, w0=70.90705909386233, w1=14.039390640052689\n",
      "SGD iter. 28/49: loss=16.79912530693611, w0=71.48669907362452, w1=13.797987175359122\n",
      "SGD iter. 29/49: loss=6.95908591900225, w0=71.11362841224782, w1=13.733639170602292\n",
      "SGD iter. 30/49: loss=8.666005866779283, w0=71.5299457399386, w1=13.370110982085661\n",
      "SGD iter. 31/49: loss=0.00984842685906178, w0=71.51591119195224, w1=13.355074275174353\n",
      "SGD iter. 32/49: loss=15.673678846968809, w0=70.95602408106348, w1=13.259386063275846\n",
      "SGD iter. 33/49: loss=101.7699644826911, w0=69.52934987520783, w1=13.235860884388934\n",
      "SGD iter. 34/49: loss=19.128952675035116, w0=68.91082012369971, w1=12.892239418829076\n",
      "SGD iter. 35/49: loss=10.1245536667109, w0=69.36081020507287, w1=13.37116661436266\n",
      "SGD iter. 36/49: loss=35.01564581014868, w0=70.19765721391198, w1=14.531286551243193\n",
      "SGD iter. 37/49: loss=49.054411863693545, w0=71.18815619789625, w1=14.411762912668479\n",
      "SGD iter. 38/49: loss=2.3161768659778157, w0=71.40338523246072, w1=14.533900321310858\n",
      "SGD iter. 39/49: loss=0.5682577369966069, w0=71.50999271221676, w1=14.561584268548867\n",
      "SGD iter. 40/49: loss=9.864856592376226, w0=71.9541741299365, w1=13.831881952758364\n",
      "SGD iter. 41/49: loss=3.0791687113210644, w0=72.20233410702069, w1=13.7602775904426\n",
      "SGD iter. 42/49: loss=9.879670794902168, w0=72.64684891655806, w1=13.365509963701795\n",
      "SGD iter. 43/49: loss=3.090115771633333, w0=72.39824820169049, w1=13.674878940738484\n",
      "SGD iter. 44/49: loss=0.257589510983146, w0=72.32647222925081, w1=13.612519020704248\n",
      "SGD iter. 45/49: loss=3.8208446730977674, w0=72.60290828598357, w1=13.29323451937004\n",
      "SGD iter. 46/49: loss=53.24005147426757, w0=73.63480025197873, w1=13.970600939909374\n",
      "SGD iter. 47/49: loss=14.120142405186217, w0=73.1033843620171, w1=14.35512619547627\n",
      "SGD iter. 48/49: loss=23.442195101444838, w0=72.41866259222377, w1=15.179580559047528\n",
      "SGD iter. 49/49: loss=0.18351058065863646, w0=72.4792448636666, w1=15.281933581625792\n",
      "SGD TEST:\n",
      "SGD w= [72.41866259 15.17958056]\n",
      "LEAST SQUARE ERROR TEST:\n",
      "LSE w= [73.293922   13.47971243]\n"
     ]
    }
   ],
   "source": [
    "test_your_least_squares()"
   ]
  },
  {
   "cell_type": "markdown",
   "metadata": {},
   "source": [
    "## 1.2 Least squares with a linear basis function model\n",
    "Start from this section, we will use the dataset `dataEx3.csv`.\n",
    "\n",
    "### Implement polynomial basis functions"
   ]
  },
  {
   "cell_type": "code",
   "execution_count": 41,
   "metadata": {},
   "outputs": [
    {
     "name": "stdout",
     "output_type": "stream",
     "text": [
      "shape of x (50,)\n",
      "shape of y (50,)\n"
     ]
    }
   ],
   "source": [
    "# load dataset\n",
    "x, y = load_data()\n",
    "print(\"shape of x {}\".format(x.shape))\n",
    "print(\"shape of y {}\".format(y.shape))"
   ]
  },
  {
   "cell_type": "code",
   "execution_count": 46,
   "metadata": {},
   "outputs": [],
   "source": [
    "def build_poly(x, degree):\n",
    "    \"\"\"polynomial basis functions for input data x, for j=0 up to j=degree.\n",
    "\n",
    "    Args:\n",
    "        x: numpy array of shape (N,), N is the number of samples.\n",
    "        degree: integer.\n",
    "\n",
    "    Returns:\n",
    "        poly: numpy array of shape (N,d+1)\n",
    "\n",
    "    >>> build_poly(np.array([0.0, 1.5]), 2)\n",
    "    array([[1.  , 0.  , 0.  ],\n",
    "           [1.  , 1.5 , 2.25]])\n",
    "    \"\"\"\n",
    "    # ***************************************************\n",
    "    # INSERT YOUR CODE HERE\n",
    "    # polynomial basis function: TODO\n",
    "    # this function should return the matrix formed\n",
    "    # by applying the polynomial basis to the input data\n",
    "    poly = np.ones((len(x), degree + 1))\n",
    "    \n",
    "    for d in range(1, degree + 1):\n",
    "        poly[:, d] = x ** d\n",
    "    \n",
    "    return poly\n",
    "\n",
    "    # ***************************************************\n",
    "    #raise NotImplementedError"
   ]
  },
  {
   "cell_type": "code",
   "execution_count": 47,
   "metadata": {},
   "outputs": [
    {
     "name": "stdout",
     "output_type": "stream",
     "text": [
      "real: [[1.   0.   0.  ]\n",
      " [1.   1.5  2.25]]\n",
      "expected:array([[1.  , 0.  , 0.  ], [1.  , 1.5 , 2.25]])\n"
     ]
    }
   ],
   "source": [
    "poly = build_poly(np.array([0.0, 1.5]), 2)\n",
    "print(\"real:\",poly)\n",
    "print(\"expected:array([[1.  , 0.  , 0.  ], [1.  , 1.5 , 2.25]])\")"
   ]
  },
  {
   "cell_type": "code",
   "execution_count": 48,
   "metadata": {},
   "outputs": [
    {
     "name": "stdout",
     "output_type": "stream",
     "text": [
      "✅ Your `build_poly` passed 1 tests.\n"
     ]
    }
   ],
   "source": [
    "test(build_poly)"
   ]
  },
  {
   "cell_type": "markdown",
   "metadata": {},
   "source": [
    "Once your implementation of `build_poly` passes the test, copy it to `build_polynomial.py`\n",
    "Let us play with polynomial regression. Note that we will use your implemented function `compute_mse`. Please copy and paste your implementation from exercise02."
   ]
  },
  {
   "cell_type": "code",
   "execution_count": 65,
   "metadata": {},
   "outputs": [],
   "source": [
    "from plots import *\n",
    "\n",
    "\n",
    "def polynomial_regression():\n",
    "    \"\"\"Constructing the polynomial basis function expansion of the data,\n",
    "    and then running least squares regression.\"\"\"\n",
    "    # define parameters\n",
    "    degrees = [1, 3, 7, 12]\n",
    "\n",
    "    # define the structure of the figure\n",
    "    num_row = 2\n",
    "    num_col = 2\n",
    "    f, axs = plt.subplots(num_row, num_col)\n",
    "\n",
    "    for ind, degree in enumerate(degrees):\n",
    "        # ***************************************************\n",
    "        # INSERT YOUR CODE HERE\n",
    "        # form the data to do polynomial regression.: TODO\n",
    "        poly = build_poly(x,degree)\n",
    "        # ***************************************************\n",
    "        #raise NotImplementedError\n",
    "        # ***************************************************\n",
    "        # INSERT YOUR CODE HERE\n",
    "        # least square and calculate RMSE: TODO\n",
    "        weights, mse = least_squares(y,poly)\n",
    "\n",
    "        # Make predictions and calculate RMSE\n",
    "        y_pred = poly.dot(weights)\n",
    "        e = y - y_pred\n",
    "        mse = e @ e / (2 * y.size)\n",
    "        rmse = np.sqrt(2*mse)\n",
    "        # ***************************************************\n",
    "        #raise NotImplementedError\n",
    "\n",
    "        print(\n",
    "            \"Processing {i}th experiment, degree={d}, rmse={loss}\".format(\n",
    "                i=ind + 1, d=degree, loss=rmse\n",
    "            )\n",
    "        )\n",
    "        # plot fit\n",
    "        plot_fitted_curve(y, x, weights, degree, axs[ind // num_col][ind % num_col])\n",
    "    plt.tight_layout()\n",
    "\n",
    "    plt.show()"
   ]
  },
  {
   "cell_type": "markdown",
   "metadata": {},
   "source": [
    "Run polynomial regression"
   ]
  },
  {
   "cell_type": "code",
   "execution_count": 66,
   "metadata": {},
   "outputs": [
    {
     "name": "stdout",
     "output_type": "stream",
     "text": [
      "Processing 1th experiment, degree=1, rmse=0.47187607963421874\n",
      "Processing 2th experiment, degree=3, rmse=0.25858277667737467\n",
      "Processing 3th experiment, degree=7, rmse=0.249658703609072\n",
      "Processing 4th experiment, degree=12, rmse=0.24354578005495653\n"
     ]
    },
    {
     "data": {
      "image/png": "[encoded data removed]",
      "text/plain": [
       "<Figure size 432x288 with 4 Axes>"
      ]
     },
     "metadata": {
      "needs_background": "light"
     },
     "output_type": "display_data"
    }
   ],
   "source": [
    "polynomial_regression()"
   ]
  },
  {
   "cell_type": "markdown",
   "metadata": {},
   "source": [
    "Your results should look like this:"
   ]
  },
  {
   "cell_type": "markdown",
   "metadata": {},
   "source": [
    "![alt text](visualize_polynomial_regression.png)"
   ]
  },
  {
   "cell_type": "markdown",
   "metadata": {},
   "source": [
    "# 2 Evaluating model predication performance\n",
    "\n",
    "Let us show the train and test splits for various polynomial degrees. First of all, please fill in the function `split_data()`"
   ]
  },
  {
   "cell_type": "code",
   "execution_count": 69,
   "metadata": {},
   "outputs": [],
   "source": [
    "def split_data(x, y, ratio, seed=1):\n",
    "    \"\"\"\n",
    "    split the dataset based on the split ratio. If ratio is 0.8\n",
    "    you will have 80% of your data set dedicated to training\n",
    "    and the rest dedicated to testing. If ratio times the number of samples is not round\n",
    "    you can use np.floor. Also check the documentation for np.random.permutation,\n",
    "    it could be useful.\n",
    "\n",
    "    Args:\n",
    "        x: numpy array of shape (N,), N is the number of samples.\n",
    "        y: numpy array of shape (N,).\n",
    "        ratio: scalar in [0,1]\n",
    "        seed: integer.\n",
    "\n",
    "    Returns:\n",
    "        x_tr: numpy array containing the train data.\n",
    "        x_te: numpy array containing the test data.\n",
    "        y_tr: numpy array containing the train labels.\n",
    "        y_te: numpy array containing the test labels.\n",
    "\n",
    "    >>> split_data(np.arange(13), np.arange(13), 0.8, 1)\n",
    "    (array([ 2,  3,  4, 10,  1,  6,  0,  7, 12,  9]), array([ 8, 11,  5]), array([ 2,  3,  4, 10,  1,  6,  0,  7, 12,  9]), array([ 8, 11,  5]))\n",
    "    \"\"\"\n",
    "    # set seed\n",
    "    np.random.seed(seed)\n",
    "    # ***************************************************\n",
    "    # INSERT YOUR CODE HERE\n",
    "    # split the data based on the given ratio: TODO\n",
    "\n",
    "    np.random.seed(seed)\n",
    "    \n",
    "    # Shuffle the data indices\n",
    "    num_samples = len(y)\n",
    "    indices = np.random.permutation(num_samples)\n",
    "\n",
    "    # Determine the split index\n",
    "    split_idx = int(np.floor(ratio * num_samples))\n",
    "    \n",
    "    # Split the data based on the shuffled indices\n",
    "    train_indices = indices[:split_idx]\n",
    "    test_indices = indices[split_idx:]\n",
    "    \n",
    "    # Create train/test splits\n",
    "    x_tr = x[train_indices]\n",
    "    x_te = x[test_indices]\n",
    "    y_tr = y[train_indices]\n",
    "    y_te = y[test_indices]\n",
    "    \n",
    "    return x_tr, x_te, y_tr, y_te\n",
    "\n",
    "    # ***************************************************\n",
    "    #raise NotImplementedError"
   ]
  },
  {
   "cell_type": "code",
   "execution_count": 70,
   "metadata": {},
   "outputs": [
    {
     "name": "stdout",
     "output_type": "stream",
     "text": [
      "✅ Your `split_data` passed 1 tests.\n"
     ]
    }
   ],
   "source": [
    "test(split_data)"
   ]
  },
  {
   "cell_type": "markdown",
   "metadata": {},
   "source": [
    "Then, test your `split_data` function below."
   ]
  },
  {
   "cell_type": "code",
   "execution_count": null,
   "metadata": {},
   "outputs": [],
   "source": [
    "def train_test_split_demo(x, y, degree, ratio, seed):\n",
    "    \"\"\"polynomial regression with different split ratios and different degrees.\n",
    "\n",
    "    Returns:\n",
    "      x_tr: numpy array\n",
    "      x_te: numpy array\n",
    "      y_tr: numpy array\n",
    "      y_te: numpy array\n",
    "      weights: weights from the least squares optimization\"\"\"\n",
    "    # ***************************************************\n",
    "    # INSERT YOUR CODE HERE\n",
    "    # split the data, and return train and test data: TODO\n",
    "    # ***************************************************\n",
    "    raise NotImplementedError\n",
    "    # ***************************************************\n",
    "    # INSERT YOUR CODE HERE\n",
    "    # form train and test data with polynomial basis function: TODO\n",
    "    # ***************************************************\n",
    "    raise NotImplementedError\n",
    "    # ***************************************************\n",
    "    # INSERT YOUR CODE HERE\n",
    "    # calculate weight through least square: TODO\n",
    "    # ***************************************************\n",
    "    raise NotImplementedError\n",
    "    # ***************************************************\n",
    "    # INSERT YOUR CODE HERE\n",
    "    # calculate RMSE for train and test data,\n",
    "    # and store them in rmse_tr and rmse_te respectively: TODO\n",
    "    # ***************************************************\n",
    "    raise NotImplementedError\n",
    "    print(\n",
    "        \"proportion={p}, degree={d}, Training RMSE={tr:.3f}, Testing RMSE={te:.3f}\".format(\n",
    "            p=ratio, d=degree, tr=rmse_tr, te=rmse_te\n",
    "        )\n",
    "    )"
   ]
  },
  {
   "cell_type": "markdown",
   "metadata": {},
   "source": [
    "Demo time"
   ]
  },
  {
   "cell_type": "code",
   "execution_count": null,
   "metadata": {},
   "outputs": [],
   "source": [
    "seed = 6\n",
    "degrees = [1, 3, 7, 12]\n",
    "split_ratios = [0.9, 0.7, 0.5, 0.1]\n",
    "\n",
    "# define the structure of the figure\n",
    "num_row = 4\n",
    "num_col = 4\n",
    "axs = plt.subplots(num_row, num_col, figsize=(20, 8))[1]\n",
    "\n",
    "for ind, split_ratio in enumerate(split_ratios):\n",
    "    for ind_d, degree in enumerate(degrees):\n",
    "        x_tr, x_te, y_tr, y_te, w = train_test_split_demo(\n",
    "            x, y, degree, split_ratio, seed\n",
    "        )\n",
    "        plot_fitted_curve(y_tr, x_tr, w, degree, axs[ind_d][ind % num_col])\n",
    "        axs[ind_d][ind].set_title(f\"Degree: {degree}, Split {split_ratio}\")\n",
    "plt.tight_layout()"
   ]
  },
  {
   "cell_type": "markdown",
   "metadata": {},
   "source": [
    "Your graph should look like this:"
   ]
  },
  {
   "cell_type": "markdown",
   "metadata": {},
   "source": [
    "![alt text](split_demo.png)"
   ]
  },
  {
   "cell_type": "markdown",
   "metadata": {},
   "source": [
    "# Ridge Regression\n",
    "Please fill in the function below."
   ]
  },
  {
   "cell_type": "code",
   "execution_count": null,
   "metadata": {},
   "outputs": [],
   "source": [
    "def ridge_regression(y, tx, lambda_):\n",
    "    \"\"\"implement ridge regression.\n",
    "\n",
    "    Args:\n",
    "        y: numpy array of shape (N,), N is the number of samples.\n",
    "        tx: numpy array of shape (N,D), D is the number of features.\n",
    "        lambda_: scalar.\n",
    "\n",
    "    Returns:\n",
    "        w: optimal weights, numpy array of shape(D,), D is the number of features.\n",
    "\n",
    "    >>> ridge_regression(np.array([0.1,0.2]), np.array([[2.3, 3.2], [1., 0.1]]), 0)\n",
    "    array([ 0.21212121, -0.12121212])\n",
    "    >>> ridge_regression(np.array([0.1,0.2]), np.array([[2.3, 3.2], [1., 0.1]]), 1)\n",
    "    array([0.03947092, 0.00319628])\n",
    "    \"\"\"\n",
    "    raise NotImplementedError"
   ]
  },
  {
   "cell_type": "code",
   "execution_count": null,
   "metadata": {},
   "outputs": [],
   "source": [
    "test(ridge_regression)"
   ]
  },
  {
   "cell_type": "code",
   "execution_count": null,
   "metadata": {},
   "outputs": [],
   "source": [
    "def ridge_regression_demo(x, y, degree, ratio, seed):\n",
    "    \"\"\"ridge regression demo.\"\"\"\n",
    "    # define parameter\n",
    "    lambdas = np.logspace(-5, 0, 15)\n",
    "\n",
    "    # ***************************************************\n",
    "    # INSERT YOUR CODE HERE\n",
    "    # split the data, and return train and test data: TODO\n",
    "    # ***************************************************\n",
    "    raise NotImplementedError\n",
    "    # ***************************************************\n",
    "    # INSERT YOUR CODE HERE\n",
    "    # form train and test data with polynomial basis function: TODO\n",
    "    # ***************************************************\n",
    "    raise NotImplementedError\n",
    "\n",
    "    rmse_tr = []\n",
    "    rmse_te = []\n",
    "    for ind, lambda_ in enumerate(lambdas):\n",
    "        # ***************************************************\n",
    "        # INSERT YOUR CODE HERE\n",
    "        # ridge regression with a given lambda\n",
    "        # ***************************************************\n",
    "        raise NotImplementedError\n",
    "        print(\n",
    "            \"proportion={p}, degree={d}, lambda={l:.3f}, Training RMSE={tr:.3f}, Testing RMSE={te:.3f}\".format(\n",
    "                p=ratio, d=degree, l=lambda_, tr=rmse_tr[ind], te=rmse_te[ind]\n",
    "            )\n",
    "        )\n",
    "    plot_train_test(rmse_tr, rmse_te, lambdas, degree)"
   ]
  },
  {
   "cell_type": "markdown",
   "metadata": {
    "collapsed": true,
    "jupyter": {
     "outputs_hidden": true
    }
   },
   "source": [
    "Demo time"
   ]
  },
  {
   "cell_type": "code",
   "execution_count": null,
   "metadata": {},
   "outputs": [],
   "source": [
    "seed = 56\n",
    "degree = 7\n",
    "split_ratio = 0.5\n",
    "ridge_regression_demo(x, y, degree, split_ratio, seed)"
   ]
  },
  {
   "cell_type": "markdown",
   "metadata": {},
   "source": [
    "Your plot should look like:"
   ]
  },
  {
   "cell_type": "markdown",
   "metadata": {},
   "source": [
    "![alt text](ridge_regression.png)"
   ]
  }
 ],
 "metadata": {
  "kernelspec": {
   "display_name": "Python 3",
   "language": "python",
   "name": "python3"
  },
  "language_info": {
   "codemirror_mode": {
    "name": "ipython",
    "version": 3
   },
   "file_extension": ".py",
   "mimetype": "text/x-python",
   "name": "python",
   "nbconvert_exporter": "python",
   "pygments_lexer": "ipython3",
   "version": "3.9.2"
  }
 },
 "nbformat": 4,
 "nbformat_minor": 4
}
